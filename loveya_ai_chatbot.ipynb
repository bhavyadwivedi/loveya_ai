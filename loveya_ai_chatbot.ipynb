{
  "cells": [
    {
      "cell_type": "code",
      "execution_count": 6,
      "metadata": {
        "colab": {
          "base_uri": "https://localhost:8080/"
        },
        "id": "XpPV5fwrNXA7",
        "outputId": "111719fa-6d07-4f32-ee73-f978482e681e"
      },
      "outputs": [
        {
          "output_type": "stream",
          "name": "stdout",
          "text": [
            "Hey! I'm Loveya AI!\n",
            "(type 'bye' to exit)\n",
            "\n",
            "you: bye\n",
            "\n",
            "Loveya AI: bye bestie! come back soon!\n"
          ]
        }
      ],
      "source": [
        "class LoveyaAI:\n",
        "    def __init__(self):\n",
        "        self.name = \"Loveya AI\"\n",
        "        self.interests = {\n",
        "            \"fashion\": [\"shoes\", \"sneakers\", \"jordans\", \"dunks\"],\n",
        "            \"music\": {\n",
        "                \"artists\": [\"chase atlantic\"],\n",
        "                \"genres\": [\"rap\", \"hip-hop\"]\n",
        "            },\n",
        "            \"food_drinks\": {\n",
        "                \"snacks\": [\"chocolate\"],\n",
        "                \"beverages\": [\"mountain dew\", \"green juice\"]\n",
        "            },\n",
        "            \"tv_shows\": [\"all american\", \"suits\"],\n",
        "            \"sports\": [\"taekwondo\"]\n",
        "        }\n",
        "\n",
        "        self.dislikes = [\"movies\", \"badminton\"]\n",
        "\n",
        "    def introduce_self(self):\n",
        "        return f\"Hey! I'm {self.name}!\"\n",
        "\n",
        "    def respond_to_topic(self, message):\n",
        "        message = message.lower()\n",
        "        responses = {\n",
        "            \"shoes\": \"OMG, let's talk sneakers! Have you seen the latest drops?\",\n",
        "            \"chase atlantic\": \"Chase Atlantic's music hits different fr fr!\",\n",
        "            \"rap\": \"Nothing better than bars and beats!\",\n",
        "            \"chocolate\": \"Chocolate is literally life! Can't get enough!\",\n",
        "            \"mountain dew\": \"That Mountain Dew energy hit different!\",\n",
        "            \"green juice\": \"yum. (it's not grass i swear)\",\n",
        "            \"all american\": \"i love layla keating\",\n",
        "            \"suits\": \"i love donna paulsen\",\n",
        "            \"taekwondo\": \"don't do that anymore but i rlly want to\",\n",
        "            \"movies\": \"Movies aren't really my thing tbh...\"\n",
        "        }\n",
        "\n",
        "        # Check if any of the topics appear in the message\n",
        "        for topic, response in responses.items():\n",
        "            if topic in message:\n",
        "                return response\n",
        "\n",
        "        return \"Let's talk about something! (please let's yap abt shoes)\"\n",
        "\n",
        "    def check_vibe(self, topic):\n",
        "        topic = topic.lower()\n",
        "        if topic in self.dislikes:\n",
        "            return \"Not really my vibe...\"\n",
        "        elif any(topic in str(category).lower() for category in self.interests.values()):\n",
        "            return \"yesyesyesyesyes\"\n",
        "        else:\n",
        "            return \"Meh, I'm neutral on that.\"\n",
        "\n",
        "def main():\n",
        "    bot = LoveyaAI()\n",
        "    print(bot.introduce_self())\n",
        "    print(\"(type 'bye' to exit)\")\n",
        "\n",
        "    while True:\n",
        "        user_input = input(\"\\nyou: \").strip()\n",
        "\n",
        "        if user_input.lower() == 'bye':\n",
        "            print(\"\\nLoveya AI: bye bestie! come back soon!\")\n",
        "            break\n",
        "\n",
        "        # Check if it's a vibe check question\n",
        "        if \"do you like\" in user_input.lower() or \"what do you think about\" in user_input.lower():\n",
        "            topic = user_input.lower().replace(\"do you like \", \"\").replace(\"what do you think about \", \"\")\n",
        "            print(\"\\nLoveya AI:\", bot.check_vibe(topic))\n",
        "        else:\n",
        "            print(\"\\nLoveya AI:\", bot.respond_to_topic(user_input))\n",
        "\n",
        "if __name__ == \"__main__\":\n",
        "    main()"
      ]
    }
  ],
  "metadata": {
    "colab": {
      "provenance": []
    },
    "kernelspec": {
      "display_name": "Python 3",
      "name": "python3"
    },
    "language_info": {
      "name": "python"
    }
  },
  "nbformat": 4,
  "nbformat_minor": 0
}